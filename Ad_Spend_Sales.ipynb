{
 "cells": [
  {
   "cell_type": "markdown",
   "id": "4fdce163",
   "metadata": {},
   "source": [
    "TO PREDICT TOTAL SALES BY USING DFEATURS LIKE MONEY SPENT ON MARKETING ON INDIVIDUAL ITEMS"
   ]
  },
  {
   "cell_type": "markdown",
   "id": "38d2e036",
   "metadata": {},
   "source": [
    "DOMAIN ANALYSIS\n",
    "\n",
    "1. TV: Amount spend on TV advertisement\n",
    "2. Radio: Amount spend on Radio\n",
    "3. Newspaper: Amount Spend on Newspaper\n",
    "4. Sales: Sales of Product"
   ]
  },
  {
   "cell_type": "code",
   "execution_count": 2,
   "id": "49a47c45",
   "metadata": {},
   "outputs": [],
   "source": [
    "# Importing Libraries\n",
    "\n",
    "import pandas as pd\n",
    "import numpy as np\n",
    "import matplotlib.pyplot as plt\n",
    "import seaborn as sns"
   ]
  },
  {
   "cell_type": "code",
   "execution_count": null,
   "id": "73388b3c",
   "metadata": {},
   "outputs": [],
   "source": []
  }
 ],
 "metadata": {
  "kernelspec": {
   "display_name": "Python 3",
   "language": "python",
   "name": "python3"
  },
  "language_info": {
   "codemirror_mode": {
    "name": "ipython",
    "version": 3
   },
   "file_extension": ".py",
   "mimetype": "text/x-python",
   "name": "python",
   "nbconvert_exporter": "python",
   "pygments_lexer": "ipython3",
   "version": "3.12.4"
  }
 },
 "nbformat": 4,
 "nbformat_minor": 5
}
