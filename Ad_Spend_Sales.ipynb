{
 "cells": [
  {
   "cell_type": "markdown",
   "id": "4fdce163",
   "metadata": {},
   "source": [
    "TO PREDICT TOTAL SALES BY USING DFEATURS LIKE MONEY SPENT ON MARKETING ON INDIVIDUAL ITEMS"
   ]
  },
  {
   "cell_type": "markdown",
   "id": "38d2e036",
   "metadata": {},
   "source": [
    "DOMAIN ANALYSIS\n",
    "\n",
    "1. TV: Amount spend on TV advertisement\n",
    "2. Radio: Amount spend on Radio\n",
    "3. Newspaper: Amount Spend on Newspaper\n",
    "4. Sales: Sales of Product"
   ]
  }
 ],
 "metadata": {
  "language_info": {
   "name": "python"
  }
 },
 "nbformat": 4,
 "nbformat_minor": 5
}
